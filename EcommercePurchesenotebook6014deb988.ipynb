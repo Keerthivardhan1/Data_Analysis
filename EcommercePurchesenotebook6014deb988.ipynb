{
 "cells": [
  {
   "cell_type": "code",
   "execution_count": 1,
   "id": "df23337d",
   "metadata": {
    "_cell_guid": "b1076dfc-b9ad-4769-8c92-a6c4dae69d19",
    "_uuid": "8f2839f25d086af736a60e9eeb907d3b93b6e0e5",
    "execution": {
     "iopub.execute_input": "2023-04-16T19:09:05.397894Z",
     "iopub.status.busy": "2023-04-16T19:09:05.397491Z",
     "iopub.status.idle": "2023-04-16T19:09:05.413655Z",
     "shell.execute_reply": "2023-04-16T19:09:05.412627Z"
    },
    "papermill": {
     "duration": 0.025141,
     "end_time": "2023-04-16T19:09:05.416621",
     "exception": false,
     "start_time": "2023-04-16T19:09:05.391480",
     "status": "completed"
    },
    "tags": []
   },
   "outputs": [
    {
     "name": "stdout",
     "output_type": "stream",
     "text": [
      "/kaggle/input/ecommerce-purchases/Ecommerce Purchases\n"
     ]
    }
   ],
   "source": [
    "# This Python 3 environment comes with many helpful analytics libraries installed\n",
    "# It is defined by the kaggle/python Docker image: https://github.com/kaggle/docker-python\n",
    "# For example, here's several helpful packages to load\n",
    "\n",
    "import numpy as np # linear algebra\n",
    "import pandas as pd # data processing, CSV file I/O (e.g. pd.read_csv)\n",
    "\n",
    "# Input data files are available in the read-only \"../input/\" directory\n",
    "# For example, running this (by clicking run or pressing Shift+Enter) will list all files under the input directory\n",
    "\n",
    "import os\n",
    "for dirname, _, filenames in os.walk('/kaggle/input'):\n",
    "    for filename in filenames:\n",
    "        print(os.path.join(dirname, filename))\n",
    "\n",
    "# You can write up to 20GB to the current directory (/kaggle/working/) that gets preserved as output when you create a version using \"Save & Run All\" \n",
    "# You can also write temporary files to /kaggle/temp/, but they won't be saved outside of the current session"
   ]
  },
  {
   "cell_type": "code",
   "execution_count": 2,
   "id": "49a59289",
   "metadata": {
    "execution": {
     "iopub.execute_input": "2023-04-16T19:09:05.425329Z",
     "iopub.status.busy": "2023-04-16T19:09:05.424622Z",
     "iopub.status.idle": "2023-04-16T19:09:05.584438Z",
     "shell.execute_reply": "2023-04-16T19:09:05.583595Z"
    },
    "papermill": {
     "duration": 0.167477,
     "end_time": "2023-04-16T19:09:05.587683",
     "exception": false,
     "start_time": "2023-04-16T19:09:05.420206",
     "status": "completed"
    },
    "tags": []
   },
   "outputs": [
    {
     "name": "stdout",
     "output_type": "stream",
     "text": [
      "last rows \n",
      "data type\n",
      "----null values ---\n",
      "columns  Index(['Address', 'Lot', 'AM or PM', 'Browser Info', 'Company', 'Credit Card',\n",
      "       'CC Exp Date', 'CC Security Code', 'CC Provider', 'Email', 'Job',\n",
      "       'IP Address', 'Language', 'Purchase Price'],\n",
      "      dtype='object')\n",
      "len(df.colu..) 14\n",
      "number of rows  10000\n",
      "using info funciuton  \n",
      "<class 'pandas.core.frame.DataFrame'>\n",
      "RangeIndex: 10000 entries, 0 to 9999\n",
      "Data columns (total 14 columns):\n",
      " #   Column            Non-Null Count  Dtype  \n",
      "---  ------            --------------  -----  \n",
      " 0   Address           10000 non-null  object \n",
      " 1   Lot               10000 non-null  object \n",
      " 2   AM or PM          10000 non-null  object \n",
      " 3   Browser Info      10000 non-null  object \n",
      " 4   Company           10000 non-null  object \n",
      " 5   Credit Card       10000 non-null  int64  \n",
      " 6   CC Exp Date       10000 non-null  object \n",
      " 7   CC Security Code  10000 non-null  int64  \n",
      " 8   CC Provider       10000 non-null  object \n",
      " 9   Email             10000 non-null  object \n",
      " 10  Job               10000 non-null  object \n",
      " 11  IP Address        10000 non-null  object \n",
      " 12  Language          10000 non-null  object \n",
      " 13  Purchase Price    10000 non-null  float64\n",
      "dtypes: float64(1), int64(2), object(11)\n",
      "memory usage: 1.1+ MB\n",
      "max purchise price 99.99\n",
      "min purchise price 0.0\n",
      "mean purchise price 50.347302\n",
      "discribe purchise price count    10000.000000\n",
      "mean        50.347302\n",
      "std         29.015836\n",
      "min          0.000000\n",
      "25%         25.150000\n",
      "50%         50.505000\n",
      "75%         75.770000\n",
      "max         99.990000\n",
      "Name: Purchase Price, dtype: float64\n",
      "people with fr using len function  1097\n",
      "people with fr using count function  Address             1097\n",
      "Lot                 1097\n",
      "AM or PM            1097\n",
      "Browser Info        1097\n",
      "Company             1097\n",
      "Credit Card         1097\n",
      "CC Exp Date         1097\n",
      "CC Security Code    1097\n",
      "CC Provider         1097\n",
      "Email               1097\n",
      "Job                 1097\n",
      "IP Address          1097\n",
      "Language            1097\n",
      "Purchase Price      1097\n",
      "dtype: int64\n",
      "email of ip address 132.207.160.22 2    amymiller@morales-harrison.com\n",
      "Name: Email, dtype: object\n"
     ]
    }
   ],
   "source": [
    "df = pd.read_csv(\"/kaggle/input/ecommerce-purchases/Ecommerce Purchases\")\n",
    "df.head(10)\n",
    "\n",
    "print(\"last rows \")\n",
    "df.tail(10)\n",
    "\n",
    "print(\"data type\")\n",
    "df.describe()\n",
    "df.dtypes\n",
    "\n",
    "print(\"----null values ---\")\n",
    "df.isnull().sum()\n",
    "\n",
    "print(\"columns \" , df.columns)\n",
    "\n",
    "print(\"len(df.colu..)\" , len(df.columns))\n",
    "\n",
    "print(\"number of rows \" , len(df))\n",
    "\n",
    "print(\"using info funciuton  \")\n",
    "df.info()\n",
    "\n",
    "print(\"max purchise price\" , df[\"Purchase Price\"].max())\n",
    "print(\"min purchise price\" , df[\"Purchase Price\"].min())\n",
    "print(\"mean purchise price\" , df[\"Purchase Price\"].mean())\n",
    "print(\"discribe purchise price\" , df[\"Purchase Price\"].describe())\n",
    "\n",
    "print(\"people with fr using len function \" ,len(df[df[\"Language\"] == \"fr\"]))\n",
    "\n",
    "\n",
    "print(\"people with fr using count function \" ,df[df[\"Language\"] == \"fr\"].count())\n",
    "\n",
    "# print(\"job title contains engineer\" , df[\"Job\"].str.contains(\"Engineer\" , case = False))\n",
    "\n",
    "\n",
    "print(\"email of ip address 132.207.160.22\" , df[df[\"IP Address\" ]== \"132.207.160.22\"].Email)\n",
    "\n",
    "\n"
   ]
  },
  {
   "cell_type": "code",
   "execution_count": 3,
   "id": "321ae9ee",
   "metadata": {
    "execution": {
     "iopub.execute_input": "2023-04-16T19:09:05.596412Z",
     "iopub.status.busy": "2023-04-16T19:09:05.595779Z",
     "iopub.status.idle": "2023-04-16T19:09:05.606337Z",
     "shell.execute_reply": "2023-04-16T19:09:05.605330Z"
    },
    "papermill": {
     "duration": 0.017623,
     "end_time": "2023-04-16T19:09:05.608698",
     "exception": false,
     "start_time": "2023-04-16T19:09:05.591075",
     "status": "completed"
    },
    "tags": []
   },
   "outputs": [
    {
     "data": {
      "text/plain": [
       "405"
      ]
     },
     "execution_count": 3,
     "metadata": {},
     "output_type": "execute_result"
    }
   ],
   "source": [
    "df.head()\n",
    "\n",
    "len(df[(df[\"CC Provider\"] == \"Mastercard\") &( df[\"Purchase Price\"] > 50)])"
   ]
  },
  {
   "cell_type": "markdown",
   "id": "ee207ac1",
   "metadata": {
    "papermill": {
     "duration": 0.003097,
     "end_time": "2023-04-16T19:09:05.615355",
     "exception": false,
     "start_time": "2023-04-16T19:09:05.612258",
     "status": "completed"
    },
    "tags": []
   },
   "source": [
    "print(\"people with fr using len function \" ,len(df[df[\"Language\"] == \"fr\"]))\n",
    "\n",
    "\n",
    "print(\"people with fr using count function \" ,df[df[\"Language\"] == \"fr\"].count())\n",
    "\n",
    "\n",
    "The main difference between the two is the information that they return.\n",
    "\n",
    "we uses the len function to count the number of rows in the Dat****aFrame df where the \"Language\" column is equal to \"fr\". This will return a single number, which represents the total number of rows that meet the specified condition.\n",
    "\n",
    "The second line of code uses the count function to count the number of non-null values in each column of the DataFrame df where the \"Language\" column is equal to \"fr\". This will return a Series object that displays the number of non-null values in each column. Therefore, the output will show the count of non-null values in all columns of the DataFrame where the \"Language\" column is equal to \"fr\".\n",
    "\n",
    "So, if you want to count the number of rows that meet a certain condition, you should use the len function. If you want to count the number of non-null values in each column where a certain condition is met, you should use the count function."
   ]
  },
  {
   "cell_type": "code",
   "execution_count": 4,
   "id": "1ec3a98b",
   "metadata": {
    "execution": {
     "iopub.execute_input": "2023-04-16T19:09:05.623389Z",
     "iopub.status.busy": "2023-04-16T19:09:05.623023Z",
     "iopub.status.idle": "2023-04-16T19:09:05.632709Z",
     "shell.execute_reply": "2023-04-16T19:09:05.631597Z"
    },
    "papermill": {
     "duration": 0.016421,
     "end_time": "2023-04-16T19:09:05.634976",
     "exception": false,
     "start_time": "2023-04-16T19:09:05.618555",
     "status": "completed"
    },
    "tags": []
   },
   "outputs": [
    {
     "data": {
      "text/plain": [
       "9992    bberry@wright.net\n",
       "Name: Email, dtype: object"
      ]
     },
     "execution_count": 4,
     "metadata": {},
     "output_type": "execute_result"
    }
   ],
   "source": [
    "df.head()\n",
    "\n",
    "df[df[\"Credit Card\"] == 4664825258997302].Email"
   ]
  },
  {
   "cell_type": "code",
   "execution_count": 5,
   "id": "4db00322",
   "metadata": {
    "execution": {
     "iopub.execute_input": "2023-04-16T19:09:05.644038Z",
     "iopub.status.busy": "2023-04-16T19:09:05.643207Z",
     "iopub.status.idle": "2023-04-16T19:09:05.658393Z",
     "shell.execute_reply": "2023-04-16T19:09:05.656808Z"
    },
    "papermill": {
     "duration": 0.022496,
     "end_time": "2023-04-16T19:09:05.661001",
     "exception": false,
     "start_time": "2023-04-16T19:09:05.638505",
     "status": "completed"
    },
    "tags": []
   },
   "outputs": [
    {
     "name": "stdout",
     "output_type": "stream",
     "text": [
      "AM 4932\n",
      "PM  5068\n",
      "using valu_couts PM    5068\n",
      "AM    4932\n",
      "Name: AM or PM, dtype: int64\n"
     ]
    }
   ],
   "source": [
    "# people purchesed during AM and PM\n",
    "\n",
    "print( \"AM\", len(df[df[\"AM or PM\"] == \"AM\"]))\n",
    "print(\"PM \",len(df[df[\"AM or PM\"] == \"PM\"]))\n",
    "\n",
    "print(\"using valu_couts\" , df[\"AM or PM\"].value_counts() )\n",
    "\n",
    "# df.value_counts()"
   ]
  },
  {
   "cell_type": "code",
   "execution_count": 6,
   "id": "1b70164b",
   "metadata": {
    "execution": {
     "iopub.execute_input": "2023-04-16T19:09:05.669905Z",
     "iopub.status.busy": "2023-04-16T19:09:05.669515Z",
     "iopub.status.idle": "2023-04-16T19:09:05.683848Z",
     "shell.execute_reply": "2023-04-16T19:09:05.682769Z"
    },
    "papermill": {
     "duration": 0.021341,
     "end_time": "2023-04-16T19:09:05.686073",
     "exception": false,
     "start_time": "2023-04-16T19:09:05.664732",
     "status": "completed"
    },
    "tags": []
   },
   "outputs": [
    {
     "data": {
      "text/plain": [
       "988"
      ]
     },
     "execution_count": 6,
     "metadata": {},
     "output_type": "execute_result"
    }
   ],
   "source": [
    "# creadit card expairs in 2020\n",
    "\n",
    "# len(df[df[\"CC Exp Date\"] == 2020])\n",
    "\n",
    "df.head()\n",
    "# df[\"CC Exp Date\"][0]  this is str object \n",
    "\n",
    "# so\n",
    "\n",
    "len(df[df[\"CC Exp Date\"].str.contains(\"20\")])"
   ]
  },
  {
   "cell_type": "code",
   "execution_count": 7,
   "id": "90baced6",
   "metadata": {
    "execution": {
     "iopub.execute_input": "2023-04-16T19:09:05.695506Z",
     "iopub.status.busy": "2023-04-16T19:09:05.694392Z",
     "iopub.status.idle": "2023-04-16T19:09:05.714144Z",
     "shell.execute_reply": "2023-04-16T19:09:05.712960Z"
    },
    "papermill": {
     "duration": 0.026722,
     "end_time": "2023-04-16T19:09:05.716514",
     "exception": false,
     "start_time": "2023-04-16T19:09:05.689792",
     "status": "completed"
    },
    "tags": []
   },
   "outputs": [
    {
     "data": {
      "text/plain": [
       "hotmail.com     1638\n",
       "yahoo.com       1616\n",
       "gmail.com       1605\n",
       "smith.com         42\n",
       "williams.com      37\n",
       "Name: temp, dtype: int64"
      ]
     },
     "execution_count": 7,
     "metadata": {},
     "output_type": "execute_result"
    }
   ],
   "source": [
    "# top 5 email providers\n",
    "df.head()\n",
    "l =[]\n",
    "def find():\n",
    "    for email in df.Email:\n",
    "        l.append(email.split(\"@\")[1])\n",
    "\n",
    "find()\n",
    "\n",
    "df[\"temp\"] = l\n",
    "\n",
    "df[\"temp\"].value_counts().head()\n",
    "# print(l)\n",
    "        "
   ]
  },
  {
   "cell_type": "code",
   "execution_count": 8,
   "id": "c20c55ab",
   "metadata": {
    "execution": {
     "iopub.execute_input": "2023-04-16T19:09:05.725409Z",
     "iopub.status.busy": "2023-04-16T19:09:05.725053Z",
     "iopub.status.idle": "2023-04-16T19:09:05.741387Z",
     "shell.execute_reply": "2023-04-16T19:09:05.740377Z"
    },
    "papermill": {
     "duration": 0.023648,
     "end_time": "2023-04-16T19:09:05.743936",
     "exception": false,
     "start_time": "2023-04-16T19:09:05.720288",
     "status": "completed"
    },
    "tags": []
   },
   "outputs": [
    {
     "data": {
      "text/plain": [
       "hotmail.com     1638\n",
       "yahoo.com       1616\n",
       "gmail.com       1605\n",
       "smith.com         42\n",
       "williams.com      37\n",
       "Name: Email, dtype: int64"
      ]
     },
     "execution_count": 8,
     "metadata": {},
     "output_type": "execute_result"
    }
   ],
   "source": [
    "# method 2 ======>>>>>   op 5 email providers\n",
    "# 3333333333##############################################\n",
    "\n",
    "\n",
    "\n",
    "df[\"Email\"].apply(lambda email : email.split(\"@\")[1]).value_counts().head()\n"
   ]
  }
 ],
 "metadata": {
  "kernelspec": {
   "display_name": "Python 3",
   "language": "python",
   "name": "python3"
  },
  "language_info": {
   "codemirror_mode": {
    "name": "ipython",
    "version": 3
   },
   "file_extension": ".py",
   "mimetype": "text/x-python",
   "name": "python",
   "nbconvert_exporter": "python",
   "pygments_lexer": "ipython3",
   "version": "3.7.12"
  },
  "papermill": {
   "default_parameters": {},
   "duration": 11.597944,
   "end_time": "2023-04-16T19:09:06.370098",
   "environment_variables": {},
   "exception": null,
   "input_path": "__notebook__.ipynb",
   "output_path": "__notebook__.ipynb",
   "parameters": {},
   "start_time": "2023-04-16T19:08:54.772154",
   "version": "2.4.0"
  }
 },
 "nbformat": 4,
 "nbformat_minor": 5
}
